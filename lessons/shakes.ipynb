{
 "cells": [
  {
   "attachments": {},
   "cell_type": "markdown",
   "metadata": {},
   "source": [
    "# Quantifying Shakespeare\n",
    "Analyzing the frequencies of different letters in Shakespeare's work.\n",
    "\n",
    "(Data from: bit.ly/shakespeare-txt)\n",
    "\n",
    "In this notebook, we will:\n",
    "1. Read all of Shakespeare's works into a list of strings\n",
    "2. Count the frequenceis of letters used\n",
    "3. Visualize the frequencies with a bar graph."
   ]
  },
  {
   "attachments": {},
   "cell_type": "markdown",
   "metadata": {},
   "source": [
    "## Read the lines of the data"
   ]
  },
  {
   "cell_type": "code",
   "execution_count": 12,
   "metadata": {},
   "outputs": [
    {
     "name": "stdout",
     "output_type": "stream",
     "text": [
      "124456\n"
     ]
    }
   ],
   "source": [
    "from io import TextIOWrapper\n",
    "\n",
    "def read_lines(filename: str) -> list[str]:\n",
    "    \"\"\"\"Read a .txt file into a list of strings for each line.\"\"\"\n",
    "    lines: list[str] = []\n",
    "    file_handle: TextIOWrapper = open(filename, \"r\",)\n",
    "    for line in file_handle:\n",
    "        # string leading and trailing whitespace\n",
    "        line = line.strip()\n",
    "        # make everything lowercase\n",
    "        line = line.lower()\n",
    "        lines.append(line)\n",
    "    file_handle.close()\n",
    "    return lines \n",
    "\n",
    "shakes_lines: list[str] = read_lines(\"../data/t8.shakespeare.txt\")\n",
    "print(len(shakes_lines))"
   ]
  },
  {
   "attachments": {},
   "cell_type": "markdown",
   "metadata": {},
   "source": [
    "# Counting Letters\n"
   ]
  },
  {
   "cell_type": "code",
   "execution_count": 13,
   "metadata": {},
   "outputs": [],
   "source": [
    "def tally(counts: dict[str, int], key: str) -> None:\n",
    "    \"\"\"Mutate counts by increasing the value stored at key by 1\"\"\"\n",
    "    if key in counts: \n",
    "        counts[key] += 1\n",
    "    else: \n",
    "        counts[key] = 1"
   ]
  },
  {
   "cell_type": "code",
   "execution_count": 14,
   "metadata": {},
   "outputs": [
    {
     "name": "stdout",
     "output_type": "stream",
     "text": [
      "{'a': 1}\n",
      "{'a': 2}\n",
      "{'a': 2, 'b': 1}\n"
     ]
    }
   ],
   "source": [
    "d: dict[str, int] = {}\n",
    "tally(d,\"a\")\n",
    "#d = {\"a\": 1}\n",
    "print(d)\n",
    "tally(d, \"a\")\n",
    "#d = {\"a\": 2}\n",
    "print(d)\n",
    "tally(d, \"b\")\n",
    "# d = {\"a\": 2, \"b\": 1}\n",
    "print(d)\n"
   ]
  },
  {
   "cell_type": "code",
   "execution_count": 19,
   "metadata": {},
   "outputs": [
    {
     "name": "stdout",
     "output_type": "stream",
     "text": [
      "{'t': 329775, 'h': 236868, 'i': 253990, 's': 248989, ' ': 823058, 'e': 447204, '1': 928, '0': 299, 'x': 5294, 'f': 80516, 'l': 170019, 'p': 58464, 'r': 237864, 'n': 243262, 'd': 149462, 'b': 61956, 'y': 94370, 'o': 314600, 'j': 4779, 'c': 88185, 'g': 68199, 'u': 128947, ',': 83174, 'a': 289150, 'w': 89390, '.': 78025, 'm': 111452, 'k': 35408, '!': 8844, '*': 63, '<': 468, 'v': 37569, '9': 948, '-': 8074, '3': 330, '(': 628, ')': 629, '2': 366, '>': 441, '7': 41, '4': 93, '[': 2085, '#': 1, ']': 2077, 'z': 1631, '8': 40, '@': 8, ':': 1827, '=': 1, '%': 1, '\"': 470, '/': 5, '6': 63, '5': 82, \"'\": 31069, ';': 17199, '~': 1, '_': 71, 'q': 3582, '?': 10476, '|': 33, '&': 21, '`': 1, '}': 2}\n"
     ]
    }
   ],
   "source": [
    "def count_letters(lines: list[str]) -> dict[str, int]:\n",
    "    \"\"\"Count the frequency of each letter in each line of lines.\"\"\"\n",
    "    counts: dict[str, int] = {}\n",
    "    for line in lines: #line is a string\n",
    "        for char in line:\n",
    "            if char.isaplha():\n",
    "                tally(counts, char)\n",
    "    return counts \n",
    "\n",
    "shakes_letters: dict[str, int] = count_letters(shakes_lines)\n",
    "print(shakes_letters)"
   ]
  },
  {
   "attachments": {},
   "cell_type": "markdown",
   "metadata": {},
   "source": [
    "# Sorting in Lists and Dictionaries"
   ]
  },
  {
   "cell_type": "code",
   "execution_count": 20,
   "metadata": {},
   "outputs": [
    {
     "data": {
      "text/plain": [
       "{' ': 823058,\n",
       " '!': 8844,\n",
       " '\"': 470,\n",
       " '#': 1,\n",
       " '%': 1,\n",
       " '&': 21,\n",
       " \"'\": 31069,\n",
       " '(': 628,\n",
       " ')': 629,\n",
       " '*': 63,\n",
       " ',': 83174,\n",
       " '-': 8074,\n",
       " '.': 78025,\n",
       " '/': 5,\n",
       " '0': 299,\n",
       " '1': 928,\n",
       " '2': 366,\n",
       " '3': 330,\n",
       " '4': 93,\n",
       " '5': 82,\n",
       " '6': 63,\n",
       " '7': 41,\n",
       " '8': 40,\n",
       " '9': 948,\n",
       " ':': 1827,\n",
       " ';': 17199,\n",
       " '<': 468,\n",
       " '=': 1,\n",
       " '>': 441,\n",
       " '?': 10476,\n",
       " '@': 8,\n",
       " '[': 2085,\n",
       " ']': 2077,\n",
       " '_': 71,\n",
       " '`': 1,\n",
       " 'a': 289150,\n",
       " 'b': 61956,\n",
       " 'c': 88185,\n",
       " 'd': 149462,\n",
       " 'e': 447204,\n",
       " 'f': 80516,\n",
       " 'g': 68199,\n",
       " 'h': 236868,\n",
       " 'i': 253990,\n",
       " 'j': 4779,\n",
       " 'k': 35408,\n",
       " 'l': 170019,\n",
       " 'm': 111452,\n",
       " 'n': 243262,\n",
       " 'o': 314600,\n",
       " 'p': 58464,\n",
       " 'q': 3582,\n",
       " 'r': 237864,\n",
       " 's': 248989,\n",
       " 't': 329775,\n",
       " 'u': 128947,\n",
       " 'v': 37569,\n",
       " 'w': 89390,\n",
       " 'x': 5294,\n",
       " 'y': 94370,\n",
       " 'z': 1631,\n",
       " '|': 33,\n",
       " '}': 2,\n",
       " '~': 1}"
      ]
     },
     "execution_count": 20,
     "metadata": {},
     "output_type": "execute_result"
    }
   ],
   "source": [
    "# Get list of items of a dictionary\n",
    "shakes_letters_list = list(shakes_letters.items())\n",
    "shakes_letters_list\n",
    "#print(shakes_letters)list)\n",
    "shakes_letters_list = sorted(shakes_letters_list)\n",
    "#print(shakes_letters_list)\n",
    "shakes_letters_sorted = dict(shakes_letters_list)\n",
    "shakes_letters_sorted"
   ]
  },
  {
   "attachments": {},
   "cell_type": "markdown",
   "metadata": {},
   "source": [
    "# Visualize Data in Bar Graph"
   ]
  },
  {
   "cell_type": "code",
   "execution_count": 22,
   "metadata": {},
   "outputs": [
    {
     "data": {
      "text/plain": [
       "<BarContainer object of 64 artists>"
      ]
     },
     "execution_count": 22,
     "metadata": {},
     "output_type": "execute_result"
    },
    {
     "data": {
      "image/png": "[encoded data removed]",
      "text/plain": [
       "<Figure size 640x480 with 1 Axes>"
      ]
     },
     "metadata": {},
     "output_type": "display_data"
    }
   ],
   "source": [
    "from matplotlib import pyplot\n",
    "\n",
    "pyplot.title(\"Letter Frequencies\")\n",
    "pyplot.xlabel(\"Letters\")\n",
    "pyplot.ylabel(\"Frequency\")\n",
    "x_values: list[str] = shakes_letters_sorted.keys() # my letters\n",
    "y_values: list[int] = shakes_letters_sorted.values() # my letter counts\n",
    "pyplot.bar(x_values, y_values)"
   ]
  }
 ],
 "metadata": {
  "kernelspec": {
   "display_name": "Python 3",
   "language": "python",
   "name": "python3"
  },
  "language_info": {
   "codemirror_mode": {
    "name": "ipython",
    "version": 3
   },
   "file_extension": ".py",
   "mimetype": "text/x-python",
   "name": "python",
   "nbconvert_exporter": "python",
   "pygments_lexer": "ipython3",
   "version": "3.11.1"
  },
  "orig_nbformat": 4
 },
 "nbformat": 4,
 "nbformat_minor": 2
}
